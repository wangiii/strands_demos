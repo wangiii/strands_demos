{
 "cells": [
  {
   "cell_type": "code",
   "execution_count": null,
   "id": "cc66c380",
   "metadata": {},
   "outputs": [],
   "source": [
    "from strands import Agent\n",
    "from strands.models.litellm import LiteLLMModel\n",
    "from strands_tools import calculator\n",
    "\n",
    "model = LiteLLMModel(\n",
    "    # **model_config\n",
    "    client_args={\n",
    "        \"api_key\":\"sk-a[REDACTED]qxhk\",\n",
    "        \"base_url\":\"https://api.siliconflow.cn/\"\n",
    "    },\n",
    "    model_id=\"openai/Qwen/Qwen3-235B-A22B\",\n",
    "    params={\n",
    "        \"max_tokens\": 1000,\n",
    "        \"temperature\": 0.7,\n",
    "    }\n",
    ")\n",
    "\n",
    "agent = Agent(model=model, tools=[calculator])\n",
    "response = agent(\"what is 2+2\")\n",
    "print(response)"
   ]
  }
 ],
 "metadata": {
  "kernelspec": {
   "display_name": ".venv",
   "language": "python",
   "name": "python3"
  },
  "language_info": {
   "name": "python",
   "version": "3.12.10"
  }
 },
 "nbformat": 4,
 "nbformat_minor": 5
}
