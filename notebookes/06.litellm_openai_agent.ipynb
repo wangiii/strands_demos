{
 "cells": [
  {
   "cell_type": "code",
   "execution_count": null,
   "id": "51066dd8",
   "metadata": {},
   "outputs": [],
   "source": [
    "!pip install strands-agents>=0.1.4"
   ]
  },
  {
   "cell_type": "code",
   "execution_count": null,
   "id": "cc66c380",
   "metadata": {},
   "outputs": [],
   "source": [
    "from strands import Agent\n",
    "from strands.models.litellm import LiteLLMModel\n",
    "from strands_tools import calculator\n",
    "import os\n",
    "\n",
    "model = LiteLLMModel(\n",
    "    # **model_config\n",
    "    client_args={\n",
    "        \"api_key\":os.environ[\"OPENAI_API_KEY\"],\n",
    "        \"base_url\":\"https://api.siliconflow.cn/\"\n",
    "    },\n",
    "    model_id=\"openai/Qwen/Qwen3-235B-A22B\",\n",
    "    params={\n",
    "        \"max_tokens\": 1000,\n",
    "        \"temperature\": 0.7,\n",
    "    }\n",
    ")\n",
    "\n",
    "agent = Agent(model=model, tools=[calculator])\n",
    "response = agent(\"what is 2+2\")\n",
    "print(response)"
   ]
  },
  {
   "cell_type": "code",
   "execution_count": 7,
   "id": "f86034a5",
   "metadata": {},
   "outputs": [
    {
     "name": "stdout",
     "output_type": "stream",
     "text": [
      "\n",
      "Tool #3: calculator\n"
     ]
    },
    {
     "data": {
      "text/html": [
       "<pre style=\"white-space:pre;overflow-x:auto;line-height:normal;font-family:Menlo,'DejaVu Sans Mono',consolas,'Courier New',monospace\"><span style=\"color: #000080; text-decoration-color: #000080\">╭────────────────────────────────────────────── </span><span style=\"color: #000080; text-decoration-color: #000080; font-weight: bold\">Calculation Result</span><span style=\"color: #000080; text-decoration-color: #000080\"> ───────────────────────────────────────────────╮</span>\n",
       "<span style=\"color: #000080; text-decoration-color: #000080\">│</span>                                                                                                                 <span style=\"color: #000080; text-decoration-color: #000080\">│</span>\n",
       "<span style=\"color: #000080; text-decoration-color: #000080\">│</span>  ╭───────────┬─────────────────────╮                                                                            <span style=\"color: #000080; text-decoration-color: #000080\">│</span>\n",
       "<span style=\"color: #000080; text-decoration-color: #000080\">│</span>  │<span style=\"color: #008080; text-decoration-color: #008080\"> Operation </span>│<span style=\"color: #008000; text-decoration-color: #008000\"> Evaluate Expression </span>│                                                                            <span style=\"color: #000080; text-decoration-color: #000080\">│</span>\n",
       "<span style=\"color: #000080; text-decoration-color: #000080\">│</span>  │<span style=\"color: #008080; text-decoration-color: #008080\"> Input     </span>│<span style=\"color: #008000; text-decoration-color: #008000\"> 2+2                 </span>│                                                                            <span style=\"color: #000080; text-decoration-color: #000080\">│</span>\n",
       "<span style=\"color: #000080; text-decoration-color: #000080\">│</span>  │<span style=\"color: #008080; text-decoration-color: #008080\"> Result    </span>│<span style=\"color: #008000; text-decoration-color: #008000\"> 4                   </span>│                                                                            <span style=\"color: #000080; text-decoration-color: #000080\">│</span>\n",
       "<span style=\"color: #000080; text-decoration-color: #000080\">│</span>  ╰───────────┴─────────────────────╯                                                                            <span style=\"color: #000080; text-decoration-color: #000080\">│</span>\n",
       "<span style=\"color: #000080; text-decoration-color: #000080\">│</span>                                                                                                                 <span style=\"color: #000080; text-decoration-color: #000080\">│</span>\n",
       "<span style=\"color: #000080; text-decoration-color: #000080\">╰─────────────────────────────────────────────────────────────────────────────────────────────────────────────────╯</span>\n",
       "</pre>\n"
      ],
      "text/plain": [
       "\u001b[34m╭─\u001b[0m\u001b[34m─────────────────────────────────────────────\u001b[0m\u001b[34m \u001b[0m\u001b[1;34mCalculation Result\u001b[0m\u001b[34m \u001b[0m\u001b[34m──────────────────────────────────────────────\u001b[0m\u001b[34m─╮\u001b[0m\n",
       "\u001b[34m│\u001b[0m                                                                                                                 \u001b[34m│\u001b[0m\n",
       "\u001b[34m│\u001b[0m  ╭───────────┬─────────────────────╮                                                                            \u001b[34m│\u001b[0m\n",
       "\u001b[34m│\u001b[0m  │\u001b[36m \u001b[0m\u001b[36mOperation\u001b[0m\u001b[36m \u001b[0m│\u001b[32m \u001b[0m\u001b[32mEvaluate Expression\u001b[0m\u001b[32m \u001b[0m│                                                                            \u001b[34m│\u001b[0m\n",
       "\u001b[34m│\u001b[0m  │\u001b[36m \u001b[0m\u001b[36mInput    \u001b[0m\u001b[36m \u001b[0m│\u001b[32m \u001b[0m\u001b[32m2+2                \u001b[0m\u001b[32m \u001b[0m│                                                                            \u001b[34m│\u001b[0m\n",
       "\u001b[34m│\u001b[0m  │\u001b[36m \u001b[0m\u001b[36mResult   \u001b[0m\u001b[36m \u001b[0m│\u001b[32m \u001b[0m\u001b[32m4                  \u001b[0m\u001b[32m \u001b[0m│                                                                            \u001b[34m│\u001b[0m\n",
       "\u001b[34m│\u001b[0m  ╰───────────┴─────────────────────╯                                                                            \u001b[34m│\u001b[0m\n",
       "\u001b[34m│\u001b[0m                                                                                                                 \u001b[34m│\u001b[0m\n",
       "\u001b[34m╰─────────────────────────────────────────────────────────────────────────────────────────────────────────────────╯\u001b[0m\n"
      ]
     },
     "metadata": {},
     "output_type": "display_data"
    },
    {
     "name": "stdout",
     "output_type": "stream",
     "text": [
      "The result of \\(2 + 2\\) is \\(4\\).The result of \\(2 + 2\\) is \\(4\\).\n",
      "\n"
     ]
    }
   ],
   "source": [
    "from strands import Agent\n",
    "from strands.models.openai import OpenAIModel\n",
    "from strands_tools import calculator\n",
    "import os\n",
    "\n",
    "model = OpenAIModel(\n",
    "    # **model_config\n",
    "    client_args={\n",
    "        \"api_key\":os.environ[\"OPENAI_API_KEY\"],\n",
    "        \"base_url\":\"https://api.siliconflow.cn/\"\n",
    "    },\n",
    "    model_id=\"Pro/deepseek-ai/DeepSeek-V3\",\n",
    "    max_tokens =  1000,\n",
    "    temperature = 0.7,\n",
    ")\n",
    "\n",
    "agent = Agent(model=model, tools=[calculator])\n",
    "response = agent(\"what is 2+2\")\n",
    "print(response)"
   ]
  },
  {
   "cell_type": "code",
   "execution_count": null,
   "id": "a0885292",
   "metadata": {},
   "outputs": [
    {
     "name": "stdout",
     "output_type": "stream",
     "text": [
      "{'init_event_loop': True}\n",
      "{'start': True}\n",
      "{'start_event_loop': True}\n"
     ]
    },
    {
     "name": "stdout",
     "output_type": "stream",
     "text": [
      "{'event': {'messageStart': {'role': 'assistant'}}}\n",
      "{'event': {'contentBlockStart': {'start': {}}}}\n",
      "\n",
      "\n",
      "{'event': {'contentBlockDelta': {'delta': {'text': '\\n\\n'}}}}\n",
      "{'data': '\\n\\n', 'delta': {'text': '\\n\\n'}, 'event_loop_metrics': EventLoopMetrics(cycle_count=3, tool_metrics={'calculator': ToolMetrics(tool={'toolUseId': '019707e58b6ddece9afae4f452197f28', 'name': 'calculator', 'input': {'expression': '2+2'}}, call_count=1, success_count=1, error_count=0, total_time=0.0064160823822021484)}, cycle_durations=[13.211871862411499], traces=[<strands.telemetry.metrics.Trace object at 0x7f222d989810>, <strands.telemetry.metrics.Trace object at 0x7f222e32f240>, <strands.telemetry.metrics.Trace object at 0x7f222d805550>], accumulated_usage={'inputTokens': 3096, 'outputTokens': 254, 'totalTokens': 3350}, accumulated_metrics={'latencyMs': 0}), 'agent': <strands.agent.agent.Agent object at 0x7f222d988910>, 'event_loop_parent_span': None, 'event_loop_cycle_id': UUID('da33b57a-d7e5-464a-a59a-05bf666026c7'), 'request_state': {}, 'event_loop_cycle_trace': <strands.telemetry.metrics.Trace object at 0x7f222d805550>, 'event_loop_cycle_span': None}\n",
      "\n",
      "Tool #2: calculator{'event': {'contentBlockStop': {}}}\n",
      "{'event': {'contentBlockStart': {'start': {'toolUse': {'name': 'calculator', 'toolUseId': '019707e93bc8add71cef995c05b6a603'}}}}}\n",
      "{'event': {'contentBlockDelta': {'delta': {'toolUse': {'input': ''}}}}}\n",
      "\n",
      "{'delta': {'toolUse': {'input': ''}}, 'current_tool_use': {'toolUseId': '019707e93bc8add71cef995c05b6a603', 'name': 'calculator', 'input': ' {\"expression\": \"2+'}, 'event_loop_metrics': EventLoopMetrics(cycle_count=3, tool_metrics={'calculator': ToolMetrics(tool={'toolUseId': '019707e58b6ddece9afae4f452197f28', 'name': 'calculator', 'input': {'expression': '2+2'}}, call_count=1, success_count=1, error_count=0, total_time=0.0064160823822021484)}, cycle_durations=[13.211871862411499], traces=[<strands.telemetry.metrics.Trace object at 0x7f222d989810>, <strands.telemetry.metrics.Trace object at 0x7f222e32f240>, <strands.telemetry.metrics.Trace object at 0x7f222d805550>], accumulated_usage={'inputTokens': 3096, 'outputTokens': 254, 'totalTokens': 3350}, accumulated_metrics={'latencyMs': 0}), 'agent': <strands.agent.agent.Agent object at 0x7f222d988910>, 'event_loop_parent_span': None, 'event_loop_cycle_id': UUID('da33b57a-d7e5-464a-a59a-05bf666026c7'), 'request_state': {}, 'event_loop_cycle_trace': <strands.telemetry.metrics.Trace object at 0x7f222d805550>, 'event_loop_cycle_span': None}\n",
      "{'event': {'contentBlockDelta': {'delta': {'toolUse': {'input': ' {\"'}}}}}\n",
      "{'delta': {'toolUse': {'input': ' {\"'}}, 'current_tool_use': {'toolUseId': '019707e93bc8add71cef995c05b6a603', 'name': 'calculator', 'input': ' {\"expression\": \"2+'}, 'event_loop_metrics': EventLoopMetrics(cycle_count=3, tool_metrics={'calculator': ToolMetrics(tool={'toolUseId': '019707e58b6ddece9afae4f452197f28', 'name': 'calculator', 'input': {'expression': '2+2'}}, call_count=1, success_count=1, error_count=0, total_time=0.0064160823822021484)}, cycle_durations=[13.211871862411499], traces=[<strands.telemetry.metrics.Trace object at 0x7f222d989810>, <strands.telemetry.metrics.Trace object at 0x7f222e32f240>, <strands.telemetry.metrics.Trace object at 0x7f222d805550>], accumulated_usage={'inputTokens': 3096, 'outputTokens': 254, 'totalTokens': 3350}, accumulated_metrics={'latencyMs': 0}), 'agent': <strands.agent.agent.Agent object at 0x7f222d988910>, 'event_loop_parent_span': None, 'event_loop_cycle_id': UUID('da33b57a-d7e5-464a-a59a-05bf666026c7'), 'request_state': {}, 'event_loop_cycle_trace': <strands.telemetry.metrics.Trace object at 0x7f222d805550>, 'event_loop_cycle_span': None}\n",
      "{'event': {'contentBlockDelta': {'delta': {'toolUse': {'input': 'expression'}}}}}\n",
      "{'delta': {'toolUse': {'input': 'expression'}}, 'current_tool_use': {'toolUseId': '019707e93bc8add71cef995c05b6a603', 'name': 'calculator', 'input': ' {\"expression\": \"2+'}, 'event_loop_metrics': EventLoopMetrics(cycle_count=3, tool_metrics={'calculator': ToolMetrics(tool={'toolUseId': '019707e58b6ddece9afae4f452197f28', 'name': 'calculator', 'input': {'expression': '2+2'}}, call_count=1, success_count=1, error_count=0, total_time=0.0064160823822021484)}, cycle_durations=[13.211871862411499], traces=[<strands.telemetry.metrics.Trace object at 0x7f222d989810>, <strands.telemetry.metrics.Trace object at 0x7f222e32f240>, <strands.telemetry.metrics.Trace object at 0x7f222d805550>], accumulated_usage={'inputTokens': 3096, 'outputTokens': 254, 'totalTokens': 3350}, accumulated_metrics={'latencyMs': 0}), 'agent': <strands.agent.agent.Agent object at 0x7f222d988910>, 'event_loop_parent_span': None, 'event_loop_cycle_id': UUID('da33b57a-d7e5-464a-a59a-05bf666026c7'), 'request_state': {}, 'event_loop_cycle_trace': <strands.telemetry.metrics.Trace object at 0x7f222d805550>, 'event_loop_cycle_span': None}\n",
      "{'event': {'contentBlockDelta': {'delta': {'toolUse': {'input': '\":'}}}}}\n",
      "{'delta': {'toolUse': {'input': '\":'}}, 'current_tool_use': {'toolUseId': '019707e93bc8add71cef995c05b6a603', 'name': 'calculator', 'input': ' {\"expression\": \"2+'}, 'event_loop_metrics': EventLoopMetrics(cycle_count=3, tool_metrics={'calculator': ToolMetrics(tool={'toolUseId': '019707e58b6ddece9afae4f452197f28', 'name': 'calculator', 'input': {'expression': '2+2'}}, call_count=1, success_count=1, error_count=0, total_time=0.0064160823822021484)}, cycle_durations=[13.211871862411499], traces=[<strands.telemetry.metrics.Trace object at 0x7f222d989810>, <strands.telemetry.metrics.Trace object at 0x7f222e32f240>, <strands.telemetry.metrics.Trace object at 0x7f222d805550>], accumulated_usage={'inputTokens': 3096, 'outputTokens': 254, 'totalTokens': 3350}, accumulated_metrics={'latencyMs': 0}), 'agent': <strands.agent.agent.Agent object at 0x7f222d988910>, 'event_loop_parent_span': None, 'event_loop_cycle_id': UUID('da33b57a-d7e5-464a-a59a-05bf666026c7'), 'request_state': {}, 'event_loop_cycle_trace': <strands.telemetry.metrics.Trace object at 0x7f222d805550>, 'event_loop_cycle_span': None}\n",
      "{'event': {'contentBlockDelta': {'delta': {'toolUse': {'input': ' \"'}}}}}\n",
      "{'delta': {'toolUse': {'input': ' \"'}}, 'current_tool_use': {'toolUseId': '019707e93bc8add71cef995c05b6a603', 'name': 'calculator', 'input': ' {\"expression\": \"2+'}, 'event_loop_metrics': EventLoopMetrics(cycle_count=3, tool_metrics={'calculator': ToolMetrics(tool={'toolUseId': '019707e58b6ddece9afae4f452197f28', 'name': 'calculator', 'input': {'expression': '2+2'}}, call_count=1, success_count=1, error_count=0, total_time=0.0064160823822021484)}, cycle_durations=[13.211871862411499], traces=[<strands.telemetry.metrics.Trace object at 0x7f222d989810>, <strands.telemetry.metrics.Trace object at 0x7f222e32f240>, <strands.telemetry.metrics.Trace object at 0x7f222d805550>], accumulated_usage={'inputTokens': 3096, 'outputTokens': 254, 'totalTokens': 3350}, accumulated_metrics={'latencyMs': 0}), 'agent': <strands.agent.agent.Agent object at 0x7f222d988910>, 'event_loop_parent_span': None, 'event_loop_cycle_id': UUID('da33b57a-d7e5-464a-a59a-05bf666026c7'), 'request_state': {}, 'event_loop_cycle_trace': <strands.telemetry.metrics.Trace object at 0x7f222d805550>, 'event_loop_cycle_span': None}\n",
      "{'event': {'contentBlockDelta': {'delta': {'toolUse': {'input': '2'}}}}}\n",
      "{'delta': {'toolUse': {'input': '2'}}, 'current_tool_use': {'toolUseId': '019707e93bc8add71cef995c05b6a603', 'name': 'calculator', 'input': ' {\"expression\": \"2+'}, 'event_loop_metrics': EventLoopMetrics(cycle_count=3, tool_metrics={'calculator': ToolMetrics(tool={'toolUseId': '019707e58b6ddece9afae4f452197f28', 'name': 'calculator', 'input': {'expression': '2+2'}}, call_count=1, success_count=1, error_count=0, total_time=0.0064160823822021484)}, cycle_durations=[13.211871862411499], traces=[<strands.telemetry.metrics.Trace object at 0x7f222d989810>, <strands.telemetry.metrics.Trace object at 0x7f222e32f240>, <strands.telemetry.metrics.Trace object at 0x7f222d805550>], accumulated_usage={'inputTokens': 3096, 'outputTokens': 254, 'totalTokens': 3350}, accumulated_metrics={'latencyMs': 0}), 'agent': <strands.agent.agent.Agent object at 0x7f222d988910>, 'event_loop_parent_span': None, 'event_loop_cycle_id': UUID('da33b57a-d7e5-464a-a59a-05bf666026c7'), 'request_state': {}, 'event_loop_cycle_trace': <strands.telemetry.metrics.Trace object at 0x7f222d805550>, 'event_loop_cycle_span': None}\n",
      "{'event': {'contentBlockDelta': {'delta': {'toolUse': {'input': '+'}}}}}\n",
      "{'delta': {'toolUse': {'input': '+'}}, 'current_tool_use': {'toolUseId': '019707e93bc8add71cef995c05b6a603', 'name': 'calculator', 'input': ' {\"expression\": \"2+'}, 'event_loop_metrics': EventLoopMetrics(cycle_count=3, tool_metrics={'calculator': ToolMetrics(tool={'toolUseId': '019707e58b6ddece9afae4f452197f28', 'name': 'calculator', 'input': {'expression': '2+2'}}, call_count=1, success_count=1, error_count=0, total_time=0.0064160823822021484)}, cycle_durations=[13.211871862411499], traces=[<strands.telemetry.metrics.Trace object at 0x7f222d989810>, <strands.telemetry.metrics.Trace object at 0x7f222e32f240>, <strands.telemetry.metrics.Trace object at 0x7f222d805550>], accumulated_usage={'inputTokens': 3096, 'outputTokens': 254, 'totalTokens': 3350}, accumulated_metrics={'latencyMs': 0}), 'agent': <strands.agent.agent.Agent object at 0x7f222d988910>, 'event_loop_parent_span': None, 'event_loop_cycle_id': UUID('da33b57a-d7e5-464a-a59a-05bf666026c7'), 'request_state': {}, 'event_loop_cycle_trace': <strands.telemetry.metrics.Trace object at 0x7f222d805550>, 'event_loop_cycle_span': None}\n",
      "{'event': {'contentBlockDelta': {'delta': {'toolUse': {'input': '2'}}}}}\n",
      "{'delta': {'toolUse': {'input': '2'}}, 'current_tool_use': {'toolUseId': '019707e93bc8add71cef995c05b6a603', 'name': 'calculator', 'input': ' {\"expression\": \"2+2'}, 'event_loop_metrics': EventLoopMetrics(cycle_count=3, tool_metrics={'calculator': ToolMetrics(tool={'toolUseId': '019707e58b6ddece9afae4f452197f28', 'name': 'calculator', 'input': {'expression': '2+2'}}, call_count=1, success_count=1, error_count=0, total_time=0.0064160823822021484)}, cycle_durations=[13.211871862411499], traces=[<strands.telemetry.metrics.Trace object at 0x7f222d989810>, <strands.telemetry.metrics.Trace object at 0x7f222e32f240>, <strands.telemetry.metrics.Trace object at 0x7f222d805550>], accumulated_usage={'inputTokens': 3096, 'outputTokens': 254, 'totalTokens': 3350}, accumulated_metrics={'latencyMs': 0}), 'agent': <strands.agent.agent.Agent object at 0x7f222d988910>, 'event_loop_parent_span': None, 'event_loop_cycle_id': UUID('da33b57a-d7e5-464a-a59a-05bf666026c7'), 'request_state': {}, 'event_loop_cycle_trace': <strands.telemetry.metrics.Trace object at 0x7f222d805550>, 'event_loop_cycle_span': None}\n",
      "{'event': {'contentBlockDelta': {'delta': {'toolUse': {'input': '\"}'}}}}}\n",
      "{'delta': {'toolUse': {'input': '\"}'}}, 'current_tool_use': {'toolUseId': '019707e93bc8add71cef995c05b6a603', 'name': 'calculator', 'input': {'expression': '2+2'}}, 'event_loop_metrics': EventLoopMetrics(cycle_count=3, tool_metrics={'calculator': ToolMetrics(tool={'toolUseId': '019707e58b6ddece9afae4f452197f28', 'name': 'calculator', 'input': {'expression': '2+2'}}, call_count=1, success_count=1, error_count=0, total_time=0.0064160823822021484)}, cycle_durations=[13.211871862411499], traces=[<strands.telemetry.metrics.Trace object at 0x7f222d989810>, <strands.telemetry.metrics.Trace object at 0x7f222e32f240>, <strands.telemetry.metrics.Trace object at 0x7f222d805550>], accumulated_usage={'inputTokens': 3096, 'outputTokens': 254, 'totalTokens': 3350}, accumulated_metrics={'latencyMs': 0}), 'agent': <strands.agent.agent.Agent object at 0x7f222d988910>, 'event_loop_parent_span': None, 'event_loop_cycle_id': UUID('da33b57a-d7e5-464a-a59a-05bf666026c7'), 'request_state': {}, 'event_loop_cycle_trace': <strands.telemetry.metrics.Trace object at 0x7f222d805550>, 'event_loop_cycle_span': None}\n",
      "{'event': {'contentBlockStop': {}}}\n",
      "{'event': {'messageStop': {'stopReason': 'tool_use'}}}\n",
      "{'event': {'metadata': {'usage': {'inputTokens': 1602, 'outputTokens': 176, 'totalTokens': 1778}, 'metrics': {'latencyMs': 0}}}}"
     ]
    },
    {
     "data": {
      "text/html": [
       "<pre style=\"white-space:pre;overflow-x:auto;line-height:normal;font-family:Menlo,'DejaVu Sans Mono',consolas,'Courier New',monospace\"><span style=\"color: #000080; text-decoration-color: #000080\">╭────────────────────────────────────────────── </span><span style=\"color: #000080; text-decoration-color: #000080; font-weight: bold\">Calculation Result</span><span style=\"color: #000080; text-decoration-color: #000080\"> ───────────────────────────────────────────────╮</span>\n",
       "<span style=\"color: #000080; text-decoration-color: #000080\">│</span>                                                                                                                 <span style=\"color: #000080; text-decoration-color: #000080\">│</span>\n",
       "<span style=\"color: #000080; text-decoration-color: #000080\">│</span>  ╭───────────┬─────────────────────╮                                                                            <span style=\"color: #000080; text-decoration-color: #000080\">│</span>\n",
       "<span style=\"color: #000080; text-decoration-color: #000080\">│</span>  │<span style=\"color: #008080; text-decoration-color: #008080\"> Operation </span>│<span style=\"color: #008000; text-decoration-color: #008000\"> Evaluate Expression </span>│                                                                            <span style=\"color: #000080; text-decoration-color: #000080\">│</span>\n",
       "<span style=\"color: #000080; text-decoration-color: #000080\">│</span>  │<span style=\"color: #008080; text-decoration-color: #008080\"> Input     </span>│<span style=\"color: #008000; text-decoration-color: #008000\"> 2+2                 </span>│                                                                            <span style=\"color: #000080; text-decoration-color: #000080\">│</span>\n",
       "<span style=\"color: #000080; text-decoration-color: #000080\">│</span>  │<span style=\"color: #008080; text-decoration-color: #008080\"> Result    </span>│<span style=\"color: #008000; text-decoration-color: #008000\"> 4                   </span>│                                                                            <span style=\"color: #000080; text-decoration-color: #000080\">│</span>\n",
       "<span style=\"color: #000080; text-decoration-color: #000080\">│</span>  ╰───────────┴─────────────────────╯                                                                            <span style=\"color: #000080; text-decoration-color: #000080\">│</span>\n",
       "<span style=\"color: #000080; text-decoration-color: #000080\">│</span>                                                                                                                 <span style=\"color: #000080; text-decoration-color: #000080\">│</span>\n",
       "<span style=\"color: #000080; text-decoration-color: #000080\">╰─────────────────────────────────────────────────────────────────────────────────────────────────────────────────╯</span>\n",
       "</pre>\n"
      ],
      "text/plain": [
       "\u001b[34m╭─\u001b[0m\u001b[34m─────────────────────────────────────────────\u001b[0m\u001b[34m \u001b[0m\u001b[1;34mCalculation Result\u001b[0m\u001b[34m \u001b[0m\u001b[34m──────────────────────────────────────────────\u001b[0m\u001b[34m─╮\u001b[0m\n",
       "\u001b[34m│\u001b[0m                                                                                                                 \u001b[34m│\u001b[0m\n",
       "\u001b[34m│\u001b[0m  ╭───────────┬─────────────────────╮                                                                            \u001b[34m│\u001b[0m\n",
       "\u001b[34m│\u001b[0m  │\u001b[36m \u001b[0m\u001b[36mOperation\u001b[0m\u001b[36m \u001b[0m│\u001b[32m \u001b[0m\u001b[32mEvaluate Expression\u001b[0m\u001b[32m \u001b[0m│                                                                            \u001b[34m│\u001b[0m\n",
       "\u001b[34m│\u001b[0m  │\u001b[36m \u001b[0m\u001b[36mInput    \u001b[0m\u001b[36m \u001b[0m│\u001b[32m \u001b[0m\u001b[32m2+2                \u001b[0m\u001b[32m \u001b[0m│                                                                            \u001b[34m│\u001b[0m\n",
       "\u001b[34m│\u001b[0m  │\u001b[36m \u001b[0m\u001b[36mResult   \u001b[0m\u001b[36m \u001b[0m│\u001b[32m \u001b[0m\u001b[32m4                  \u001b[0m\u001b[32m \u001b[0m│                                                                            \u001b[34m│\u001b[0m\n",
       "\u001b[34m│\u001b[0m  ╰───────────┴─────────────────────╯                                                                            \u001b[34m│\u001b[0m\n",
       "\u001b[34m│\u001b[0m                                                                                                                 \u001b[34m│\u001b[0m\n",
       "\u001b[34m╰─────────────────────────────────────────────────────────────────────────────────────────────────────────────────╯\u001b[0m\n"
      ]
     },
     "metadata": {},
     "output_type": "display_data"
    },
    {
     "name": "stdout",
     "output_type": "stream",
     "text": [
      "\n",
      "{'message': {'role': 'assistant', 'content': [{'text': '\\n\\n'}, {'toolUse': {'toolUseId': '019707e93bc8add71cef995c05b6a603', 'name': 'calculator', 'input': {'expression': '2+2'}}}]}}\n",
      "{'message': {'role': 'user', 'content': [{'toolResult': {'status': 'success', 'content': [{'text': 'Result: 4'}], 'toolUseId': '019707e93bc8add71cef995c05b6a603'}}]}}\n",
      "{'start': True}\n",
      "{'start': True}\n",
      "{'start_event_loop': True}\n",
      "{'event': {'messageStart': {'role': 'assistant'}}}\n",
      "{'event': {'contentBlockStart': {'start': {}}}}\n",
      "\n",
      "\n",
      "{'event': {'contentBlockDelta': {'delta': {'text': '\\n\\n'}}}}\n",
      "{'data': '\\n\\n', 'delta': {'text': '\\n\\n'}, 'event_loop_metrics': EventLoopMetrics(cycle_count=4, tool_metrics={'calculator': ToolMetrics(tool={'toolUseId': '019707e93bc8add71cef995c05b6a603', 'name': 'calculator', 'input': {'expression': '2+2'}}, call_count=2, success_count=2, error_count=0, total_time=0.010170698165893555)}, cycle_durations=[13.211871862411499], traces=[<strands.telemetry.metrics.Trace object at 0x7f222d989810>, <strands.telemetry.metrics.Trace object at 0x7f222e32f240>, <strands.telemetry.metrics.Trace object at 0x7f222d805550>, <strands.telemetry.metrics.Trace object at 0x7f222d982dd0>], accumulated_usage={'inputTokens': 4698, 'outputTokens': 430, 'totalTokens': 5128}, accumulated_metrics={'latencyMs': 0}), 'agent': <strands.agent.agent.Agent object at 0x7f222d988910>, 'event_loop_parent_span': None, 'event_loop_cycle_id': UUID('dd929e7e-e7fb-4c35-a093-9f5ea7429655'), 'request_state': {}, 'event_loop_cycle_trace': <strands.telemetry.metrics.Trace object at 0x7f222d982dd0>, 'event_loop_cycle_span': None, 'event_loop_parent_cycle_id': UUID('da33b57a-d7e5-464a-a59a-05bf666026c7')}\n",
      "<{'event': {'contentBlockDelta': {'delta': {'text': '<'}}}}\n",
      "{'data': '<', 'delta': {'text': '<'}, 'event_loop_metrics': EventLoopMetrics(cycle_count=4, tool_metrics={'calculator': ToolMetrics(tool={'toolUseId': '019707e93bc8add71cef995c05b6a603', 'name': 'calculator', 'input': {'expression': '2+2'}}, call_count=2, success_count=2, error_count=0, total_time=0.010170698165893555)}, cycle_durations=[13.211871862411499], traces=[<strands.telemetry.metrics.Trace object at 0x7f222d989810>, <strands.telemetry.metrics.Trace object at 0x7f222e32f240>, <strands.telemetry.metrics.Trace object at 0x7f222d805550>, <strands.telemetry.metrics.Trace object at 0x7f222d982dd0>], accumulated_usage={'inputTokens': 4698, 'outputTokens': 430, 'totalTokens': 5128}, accumulated_metrics={'latencyMs': 0}), 'agent': <strands.agent.agent.Agent object at 0x7f222d988910>, 'event_loop_parent_span': None, 'event_loop_cycle_id': UUID('dd929e7e-e7fb-4c35-a093-9f5ea7429655'), 'request_state': {}, 'event_loop_cycle_trace': <strands.telemetry.metrics.Trace object at 0x7f222d982dd0>, 'event_loop_cycle_span': None, 'event_loop_parent_cycle_id': UUID('da33b57a-d7e5-464a-a59a-05bf666026c7')}\n",
      "result{'event': {'contentBlockDelta': {'delta': {'text': 'result'}}}}\n",
      "{'data': 'result', 'delta': {'text': 'result'}, 'event_loop_metrics': EventLoopMetrics(cycle_count=4, tool_metrics={'calculator': ToolMetrics(tool={'toolUseId': '019707e93bc8add71cef995c05b6a603', 'name': 'calculator', 'input': {'expression': '2+2'}}, call_count=2, success_count=2, error_count=0, total_time=0.010170698165893555)}, cycle_durations=[13.211871862411499], traces=[<strands.telemetry.metrics.Trace object at 0x7f222d989810>, <strands.telemetry.metrics.Trace object at 0x7f222e32f240>, <strands.telemetry.metrics.Trace object at 0x7f222d805550>, <strands.telemetry.metrics.Trace object at 0x7f222d982dd0>], accumulated_usage={'inputTokens': 4698, 'outputTokens': 430, 'totalTokens': 5128}, accumulated_metrics={'latencyMs': 0}), 'agent': <strands.agent.agent.Agent object at 0x7f222d988910>, 'event_loop_parent_span': None, 'event_loop_cycle_id': UUID('dd929e7e-e7fb-4c35-a093-9f5ea7429655'), 'request_state': {}, 'event_loop_cycle_trace': <strands.telemetry.metrics.Trace object at 0x7f222d982dd0>, 'event_loop_cycle_span': None, 'event_loop_parent_cycle_id': UUID('da33b57a-d7e5-464a-a59a-05bf666026c7')}\n",
      ">{'event': {'contentBlockDelta': {'delta': {'text': '>'}}}}\n",
      "{'data': '>', 'delta': {'text': '>'}, 'event_loop_metrics': EventLoopMetrics(cycle_count=4, tool_metrics={'calculator': ToolMetrics(tool={'toolUseId': '019707e93bc8add71cef995c05b6a603', 'name': 'calculator', 'input': {'expression': '2+2'}}, call_count=2, success_count=2, error_count=0, total_time=0.010170698165893555)}, cycle_durations=[13.211871862411499], traces=[<strands.telemetry.metrics.Trace object at 0x7f222d989810>, <strands.telemetry.metrics.Trace object at 0x7f222e32f240>, <strands.telemetry.metrics.Trace object at 0x7f222d805550>, <strands.telemetry.metrics.Trace object at 0x7f222d982dd0>], accumulated_usage={'inputTokens': 4698, 'outputTokens': 430, 'totalTokens': 5128}, accumulated_metrics={'latencyMs': 0}), 'agent': <strands.agent.agent.Agent object at 0x7f222d988910>, 'event_loop_parent_span': None, 'event_loop_cycle_id': UUID('dd929e7e-e7fb-4c35-a093-9f5ea7429655'), 'request_state': {}, 'event_loop_cycle_trace': <strands.telemetry.metrics.Trace object at 0x7f222d982dd0>, 'event_loop_cycle_span': None, 'event_loop_parent_cycle_id': UUID('da33b57a-d7e5-464a-a59a-05bf666026c7')}\n",
      "4{'event': {'contentBlockDelta': {'delta': {'text': '4'}}}}\n",
      "{'data': '4', 'delta': {'text': '4'}, 'event_loop_metrics': EventLoopMetrics(cycle_count=4, tool_metrics={'calculator': ToolMetrics(tool={'toolUseId': '019707e93bc8add71cef995c05b6a603', 'name': 'calculator', 'input': {'expression': '2+2'}}, call_count=2, success_count=2, error_count=0, total_time=0.010170698165893555)}, cycle_durations=[13.211871862411499], traces=[<strands.telemetry.metrics.Trace object at 0x7f222d989810>, <strands.telemetry.metrics.Trace object at 0x7f222e32f240>, <strands.telemetry.metrics.Trace object at 0x7f222d805550>, <strands.telemetry.metrics.Trace object at 0x7f222d982dd0>], accumulated_usage={'inputTokens': 4698, 'outputTokens': 430, 'totalTokens': 5128}, accumulated_metrics={'latencyMs': 0}), 'agent': <strands.agent.agent.Agent object at 0x7f222d988910>, 'event_loop_parent_span': None, 'event_loop_cycle_id': UUID('dd929e7e-e7fb-4c35-a093-9f5ea7429655'), 'request_state': {}, 'event_loop_cycle_trace': <strands.telemetry.metrics.Trace object at 0x7f222d982dd0>, 'event_loop_cycle_span': None, 'event_loop_parent_cycle_id': UUID('da33b57a-d7e5-464a-a59a-05bf666026c7')}\n",
      "</{'event': {'contentBlockDelta': {'delta': {'text': '</'}}}}\n",
      "{'data': '</', 'delta': {'text': '</'}, 'event_loop_metrics': EventLoopMetrics(cycle_count=4, tool_metrics={'calculator': ToolMetrics(tool={'toolUseId': '019707e93bc8add71cef995c05b6a603', 'name': 'calculator', 'input': {'expression': '2+2'}}, call_count=2, success_count=2, error_count=0, total_time=0.010170698165893555)}, cycle_durations=[13.211871862411499], traces=[<strands.telemetry.metrics.Trace object at 0x7f222d989810>, <strands.telemetry.metrics.Trace object at 0x7f222e32f240>, <strands.telemetry.metrics.Trace object at 0x7f222d805550>, <strands.telemetry.metrics.Trace object at 0x7f222d982dd0>], accumulated_usage={'inputTokens': 4698, 'outputTokens': 430, 'totalTokens': 5128}, accumulated_metrics={'latencyMs': 0}), 'agent': <strands.agent.agent.Agent object at 0x7f222d988910>, 'event_loop_parent_span': None, 'event_loop_cycle_id': UUID('dd929e7e-e7fb-4c35-a093-9f5ea7429655'), 'request_state': {}, 'event_loop_cycle_trace': <strands.telemetry.metrics.Trace object at 0x7f222d982dd0>, 'event_loop_cycle_span': None, 'event_loop_parent_cycle_id': UUID('da33b57a-d7e5-464a-a59a-05bf666026c7')}\n",
      "result{'event': {'contentBlockDelta': {'delta': {'text': 'result'}}}}\n",
      "{'data': 'result', 'delta': {'text': 'result'}, 'event_loop_metrics': EventLoopMetrics(cycle_count=4, tool_metrics={'calculator': ToolMetrics(tool={'toolUseId': '019707e93bc8add71cef995c05b6a603', 'name': 'calculator', 'input': {'expression': '2+2'}}, call_count=2, success_count=2, error_count=0, total_time=0.010170698165893555)}, cycle_durations=[13.211871862411499], traces=[<strands.telemetry.metrics.Trace object at 0x7f222d989810>, <strands.telemetry.metrics.Trace object at 0x7f222e32f240>, <strands.telemetry.metrics.Trace object at 0x7f222d805550>, <strands.telemetry.metrics.Trace object at 0x7f222d982dd0>], accumulated_usage={'inputTokens': 4698, 'outputTokens': 430, 'totalTokens': 5128}, accumulated_metrics={'latencyMs': 0}), 'agent': <strands.agent.agent.Agent object at 0x7f222d988910>, 'event_loop_parent_span': None, 'event_loop_cycle_id': UUID('dd929e7e-e7fb-4c35-a093-9f5ea7429655'), 'request_state': {}, 'event_loop_cycle_trace': <strands.telemetry.metrics.Trace object at 0x7f222d982dd0>, 'event_loop_cycle_span': None, 'event_loop_parent_cycle_id': UUID('da33b57a-d7e5-464a-a59a-05bf666026c7')}\n",
      ">{'event': {'contentBlockDelta': {'delta': {'text': '>'}}}}\n",
      "{'data': '>', 'delta': {'text': '>'}, 'event_loop_metrics': EventLoopMetrics(cycle_count=4, tool_metrics={'calculator': ToolMetrics(tool={'toolUseId': '019707e93bc8add71cef995c05b6a603', 'name': 'calculator', 'input': {'expression': '2+2'}}, call_count=2, success_count=2, error_count=0, total_time=0.010170698165893555)}, cycle_durations=[13.211871862411499], traces=[<strands.telemetry.metrics.Trace object at 0x7f222d989810>, <strands.telemetry.metrics.Trace object at 0x7f222e32f240>, <strands.telemetry.metrics.Trace object at 0x7f222d805550>, <strands.telemetry.metrics.Trace object at 0x7f222d982dd0>], accumulated_usage={'inputTokens': 4698, 'outputTokens': 430, 'totalTokens': 5128}, accumulated_metrics={'latencyMs': 0}), 'agent': <strands.agent.agent.Agent object at 0x7f222d988910>, 'event_loop_parent_span': None, 'event_loop_cycle_id': UUID('dd929e7e-e7fb-4c35-a093-9f5ea7429655'), 'request_state': {}, 'event_loop_cycle_trace': <strands.telemetry.metrics.Trace object at 0x7f222d982dd0>, 'event_loop_cycle_span': None, 'event_loop_parent_cycle_id': UUID('da33b57a-d7e5-464a-a59a-05bf666026c7')}\n",
      "{'event': {'contentBlockStop': {}}}\n",
      "{'event': {'messageStop': {'stopReason': 'end_turn'}}}\n",
      "{'event': {'metadata': {'usage': {'inputTokens': 1654, 'outputTokens': 125, 'totalTokens': 1779}, 'metrics': {'latencyMs': 0}}}}\n",
      "{'message': {'role': 'assistant', 'content': [{'text': '\\n\\n<result>4</result>'}]}}\n"
     ]
    },
    {
     "ename": "RuntimeError",
     "evalue": "asyncio.run() cannot be called from a running event loop",
     "output_type": "error",
     "traceback": [
      "\u001b[31m---------------------------------------------------------------------------\u001b[39m",
      "\u001b[31mRuntimeError\u001b[39m                              Traceback (most recent call last)",
      "\u001b[36mCell\u001b[39m\u001b[36m \u001b[39m\u001b[32mIn[6]\u001b[39m\u001b[32m, line 10\u001b[39m\n\u001b[32m      8\u001b[39m \u001b[38;5;28;01mawait\u001b[39;00m process_streaming_response()\n\u001b[32m      9\u001b[39m \u001b[38;5;66;03m# Run the agent\u001b[39;00m\n\u001b[32m---> \u001b[39m\u001b[32m10\u001b[39m \u001b[43masyncio\u001b[49m\u001b[43m.\u001b[49m\u001b[43mrun\u001b[49m\u001b[43m(\u001b[49m\u001b[43mprocess_streaming_response\u001b[49m\u001b[43m(\u001b[49m\u001b[43m)\u001b[49m\u001b[43m)\u001b[49m\n",
      "\u001b[36mFile \u001b[39m\u001b[32m~/.local/share/uv/python/cpython-3.13.2-linux-x86_64-gnu/lib/python3.13/asyncio/runners.py:191\u001b[39m, in \u001b[36mrun\u001b[39m\u001b[34m(main, debug, loop_factory)\u001b[39m\n\u001b[32m    161\u001b[39m \u001b[38;5;250m\u001b[39m\u001b[33;03m\"\"\"Execute the coroutine and return the result.\u001b[39;00m\n\u001b[32m    162\u001b[39m \n\u001b[32m    163\u001b[39m \u001b[33;03mThis function runs the passed coroutine, taking care of\u001b[39;00m\n\u001b[32m   (...)\u001b[39m\u001b[32m    187\u001b[39m \u001b[33;03m    asyncio.run(main())\u001b[39;00m\n\u001b[32m    188\u001b[39m \u001b[33;03m\"\"\"\u001b[39;00m\n\u001b[32m    189\u001b[39m \u001b[38;5;28;01mif\u001b[39;00m events._get_running_loop() \u001b[38;5;129;01mis\u001b[39;00m \u001b[38;5;129;01mnot\u001b[39;00m \u001b[38;5;28;01mNone\u001b[39;00m:\n\u001b[32m    190\u001b[39m     \u001b[38;5;66;03m# fail fast with short traceback\u001b[39;00m\n\u001b[32m--> \u001b[39m\u001b[32m191\u001b[39m     \u001b[38;5;28;01mraise\u001b[39;00m \u001b[38;5;167;01mRuntimeError\u001b[39;00m(\n\u001b[32m    192\u001b[39m         \u001b[33m\"\u001b[39m\u001b[33masyncio.run() cannot be called from a running event loop\u001b[39m\u001b[33m\"\u001b[39m)\n\u001b[32m    194\u001b[39m \u001b[38;5;28;01mwith\u001b[39;00m Runner(debug=debug, loop_factory=loop_factory) \u001b[38;5;28;01mas\u001b[39;00m runner:\n\u001b[32m    195\u001b[39m     \u001b[38;5;28;01mreturn\u001b[39;00m runner.run(main)\n",
      "\u001b[31mRuntimeError\u001b[39m: asyncio.run() cannot be called from a running event loop"
     ]
    }
   ],
   "source": [
    "async def process_streaming_response():\n",
    "    agent_stream = agent.stream_async(\"Calculate 2+2\")\n",
    "    async for event in agent_stream:\n",
    "        print(event)\n",
    "# Run the agent\n",
    "await process_streaming_response()"
   ]
  },
  {
   "cell_type": "code",
   "execution_count": null,
   "id": "3f15516a",
   "metadata": {},
   "outputs": [],
   "source": []
  }
 ],
 "metadata": {
  "kernelspec": {
   "display_name": ".venv",
   "language": "python",
   "name": "python3"
  },
  "language_info": {
   "codemirror_mode": {
    "name": "ipython",
    "version": 3
   },
   "file_extension": ".py",
   "mimetype": "text/x-python",
   "name": "python",
   "nbconvert_exporter": "python",
   "pygments_lexer": "ipython3",
   "version": "3.13.2"
  }
 },
 "nbformat": 4,
 "nbformat_minor": 5
}
